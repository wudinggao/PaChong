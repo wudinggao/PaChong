{
  "cells": [
    {
      "cell_type": "code",
      "execution_count": 1,
      "metadata": {
        "collapsed": true,
        "pycharm": {
          "is_executing": false
        }
      },
      "outputs": [],
      "source": "import torch"
    },
    {
      "cell_type": "code",
      "execution_count": 2,
      "outputs": [
        {
          "name": "stdout",
          "text": [
            "tensor([[ 1.2549e-37,  0.0000e+00,  1.2432e-37],\n        [ 0.0000e+00, -7.6046e-05,  4.5850e-41],\n        [-7.0518e-05,  4.5850e-41, -7.0382e-05],\n        [ 4.5850e-41, -7.0382e-05,  4.5850e-41],\n        [-7.3454e-05,  4.5850e-41, -7.4100e-05]])\n"
          ],
          "output_type": "stream"
        }
      ],
      "source": "x\u003dtorch.empty(5, 3)\nprint(x)",
      "metadata": {
        "pycharm": {
          "metadata": false,
          "name": "#%%\n",
          "is_executing": false
        }
      }
    },
    {
      "cell_type": "markdown",
      "source": "## 构建一个未初始化的5x3矩阵",
      "metadata": {
        "pycharm": {
          "metadata": false,
          "name": "#%% md\n"
        }
      }
    },
    {
      "cell_type": "code",
      "execution_count": 3,
      "outputs": [
        {
          "name": "stdout",
          "text": [
            "tensor([[0.9820, 0.0965, 0.2507],\n        [0.3553, 0.8512, 0.9202],\n        [0.4655, 0.5474, 0.7974],\n        [0.9333, 0.5612, 0.5405],\n        [0.2055, 0.2009, 0.3155]])\n"
          ],
          "output_type": "stream"
        }
      ],
      "source": "y\u003dtorch.rand(5, 3)\nprint(y)",
      "metadata": {
        "pycharm": {
          "metadata": false,
          "name": "#%%\n",
          "is_executing": false
        }
      }
    },
    {
      "cell_type": "markdown",
      "source": "## 构建随即初始化的矩阵",
      "metadata": {
        "pycharm": {
          "metadata": false
        }
      }
    },
    {
      "cell_type": "code",
      "execution_count": 3,
      "outputs": [
        {
          "name": "stdout",
          "text": [
            "tensor([[0, 0, 0],\n        [0, 0, 0],\n        [0, 0, 0],\n        [0, 0, 0],\n        [0, 0, 0]])\n"
          ],
          "output_type": "stream"
        }
      ],
      "source": "z\u003dtorch.zeros(5, 3, dtype\u003dtorch.long)\nprint(z)",
      "metadata": {
        "pycharm": {
          "metadata": false,
          "name": "#%%\n",
          "is_executing": false
        }
      }
    },
    {
      "cell_type": "markdown",
      "source": "## 构建一个矩阵填充零",
      "metadata": {
        "pycharm": {
          "metadata": false,
          "name": "#%% md\n"
        }
      }
    },
    {
      "cell_type": "code",
      "execution_count": 4,
      "outputs": [
        {
          "name": "stdout",
          "text": [
            "tensor([5.5000, 3.0000])\n"
          ],
          "output_type": "stream"
        }
      ],
      "source": "a\u003dtorch.tensor([5.5, 3])\nprint(a)",
      "metadata": {
        "pycharm": {
          "metadata": false,
          "name": "#%%\n",
          "is_executing": false
        }
      }
    },
    {
      "cell_type": "markdown",
      "source": "## 直接从数据构建张量",
      "metadata": {
        "pycharm": {
          "metadata": false,
          "name": "#%% md\n"
        }
      }
    },
    {
      "cell_type": "code",
      "execution_count": 5,
      "outputs": [
        {
          "name": "stdout",
          "text": [
            "tensor([[1., 1., 1.],\n        [1., 1., 1.],\n        [1., 1., 1.],\n        [1., 1., 1.],\n        [1., 1., 1.]], dtype\u003dtorch.float64)\ntensor([[-0.8067, -0.3159,  0.2963],\n        [ 2.0285,  1.1761, -0.5923],\n        [ 1.1680, -0.6273, -1.0236],\n        [-0.8552,  1.1433, -0.5143],\n        [ 0.9475,  0.1652,  0.5316]])\n"
          ],
          "output_type": "stream"
        }
      ],
      "source": "a \u003d a.new_ones(5, 3, dtype\u003dtorch.double)\nprint(a)\na \u003d torch.randn_like(a, dtype\u003dtorch.float)\nprint(a)",
      "metadata": {
        "pycharm": {
          "metadata": false,
          "name": "#%%\n",
          "is_executing": false
        }
      }
    },
    {
      "cell_type": "markdown",
      "source": "## 根据现有的张量创建张量。除非用户提供新值",
      "metadata": {
        "pycharm": {
          "metadata": false,
          "name": "#%% md\n"
        }
      }
    },
    {
      "cell_type": "code",
      "execution_count": 6,
      "outputs": [
        {
          "name": "stdout",
          "text": [
            "torch.Size([5, 3])\n"
          ],
          "output_type": "stream"
        }
      ],
      "source": "print(a.size())",
      "metadata": {
        "pycharm": {
          "metadata": false,
          "name": "#%%\n",
          "is_executing": false
        }
      }
    },
    {
      "cell_type": "code",
      "execution_count": null,
      "outputs": [],
      "source": "\n",
      "metadata": {
        "pycharm": {
          "metadata": false,
          "name": "#%%\n"
        }
      }
    }
  ],
  "metadata": {
    "language_info": {
      "codemirror_mode": {
        "name": "ipython",
        "version": 2
      },
      "file_extension": ".py",
      "mimetype": "text/x-python",
      "name": "python",
      "nbconvert_exporter": "python",
      "pygments_lexer": "ipython2",
      "version": "2.7.6"
    },
    "kernelspec": {
      "name": "pycharm-d20dfcbc",
      "language": "python",
      "display_name": "PyCharm (爬虫库)"
    }
  },
  "nbformat": 4,
  "nbformat_minor": 0
}