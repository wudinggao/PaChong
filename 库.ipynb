{
  "cells": [
    {
      "cell_type": "code",
      "execution_count": 1,
      "metadata": {
        "pycharm": {
          "is_executing": false
        }
      },
      "outputs": [],
      "source": [
        "import requests"
      ]
    },
    {
      "cell_type": "code",
      "execution_count": 2,
      "metadata": {
        "pycharm": {
          "is_executing": false,
          "metadata": false,
          "name": "#%%\n"
        }
      },
      "outputs": [
        {
          "name": "stdout",
          "text": [
            "ok\n"
          ],
          "output_type": "stream"
        }
      ],
      "source": [
        "print(\u0027ok\u0027)\n",
        "r \u003d requests.get(\"http://www.baidu.com\")"
      ]
    },
    {
      "cell_type": "code",
      "execution_count": 6,
      "metadata": {
        "pycharm": {
          "is_executing": false
        }
      },
      "outputs": [
        {
          "data": {
            "text/plain": "200"
          },
          "metadata": {},
          "output_type": "execute_result",
          "execution_count": 6
        }
      ],
      "source": "r.status_code"
    },
    {
      "cell_type": "markdown",
      "source": "## 请求状态码",
      "metadata": {
        "pycharm": {
          "metadata": false,
          "name": "#%% md\n"
        }
      }
    },
    {
      "cell_type": "code",
      "execution_count": 8,
      "outputs": [
        {
          "traceback": [
            "\u001b[0;31m---------------------------------------------------------------------------\u001b[0m",
            "\u001b[0;31mAssertionError\u001b[0m                            Traceback (most recent call last)",
            "\u001b[0;32m\u003cipython-input-8-9a51eabf3277\u003e\u001b[0m in \u001b[0;36m\u003cmodule\u003e\u001b[0;34m\u001b[0m\n\u001b[0;32m----\u003e 1\u001b[0;31m \u001b[0;32massert\u001b[0m \u001b[0mr\u001b[0m\u001b[0;34m.\u001b[0m\u001b[0mstatus_code\u001b[0m \u001b[0;34m\u003d\u003d\u001b[0m \u001b[0;36m300\u001b[0m\u001b[0;34m\u001b[0m\u001b[0;34m\u001b[0m\u001b[0m\n\u001b[0m",
            "\u001b[0;31mAssertionError\u001b[0m: "
          ],
          "ename": "AssertionError",
          "evalue": "",
          "output_type": "error"
        }
      ],
      "source": "assert r.status_code \u003d\u003d 300",
      "metadata": {
        "pycharm": {
          "metadata": false,
          "name": "#%% \n",
          "is_executing": false
        }
      }
    },
    {
      "cell_type": "markdown",
      "source": "## 断言",
      "metadata": {
        "pycharm": {
          "metadata": false,
          "name": "#%% md\n"
        }
      }
    },
    {
      "cell_type": "code",
      "execution_count": 3,
      "metadata": {
        "pycharm": {
          "is_executing": false
        }
      },
      "outputs": [
        {
          "data": {
            "text/plain": "\u0027\u003c!DOCTYPE html\u003e\\r\\n\u003c!--STATUS OK--\u003e\u003chtml\u003e \u003chead\u003e\u003cmeta http-equiv\u003dcontent-type content\u003dtext/html;charset\u003dutf-8\u003e\u003cmeta http-equiv\u003dX-UA-Compatible content\u003dIE\u003dEdge\u003e\u003cmeta content\u003dalways name\u003dreferrer\u003e\u003clink rel\u003dstylesheet type\u003dtext/css href\u003dhttp://s1.bdstatic.com/r/www/cache/bdorz/baidu.min.css\u003e\u003ctitle\u003eç\\x99¾åº¦ä¸\\x80ä¸\\x8bï¼\\x8cä½\\xa0å°±ç\\x9f¥é\\x81\\x93\u003c/title\u003e\u003c/head\u003e \u003cbody link\u003d#0000cc\u003e \u003cdiv id\u003dwrapper\u003e \u003cdiv id\u003dhead\u003e \u003cdiv class\u003dhead_wrapper\u003e \u003cdiv class\u003ds_form\u003e \u003cdiv class\u003ds_form_wrapper\u003e \u003cdiv id\u003dlg\u003e \u003cimg hidefocus\u003dtrue src\u003d//www.baidu.com/img/bd_logo1.png width\u003d270 height\u003d129\u003e \u003c/div\u003e \u003cform id\u003dform name\u003df action\u003d//www.baidu.com/s class\u003dfm\u003e \u003cinput type\u003dhidden name\u003dbdorz_come value\u003d1\u003e \u003cinput type\u003dhidden name\u003die value\u003dutf-8\u003e \u003cinput type\u003dhidden name\u003df value\u003d8\u003e \u003cinput type\u003dhidden name\u003drsv_bp value\u003d1\u003e \u003cinput type\u003dhidden name\u003drsv_idx value\u003d1\u003e \u003cinput type\u003dhidden name\u003dtn value\u003dbaidu\u003e\u003cspan class\u003d\"bg s_ipt_wr\"\u003e\u003cinput id\u003dkw name\u003dwd class\u003ds_ipt value maxlength\u003d255 autocomplete\u003doff autofocus\u003e\u003c/span\u003e\u003cspan class\u003d\"bg s_btn_wr\"\u003e\u003cinput type\u003dsubmit id\u003dsu value\u003dç\\x99¾åº¦ä¸\\x80ä¸\\x8b class\u003d\"bg s_btn\"\u003e\u003c/span\u003e \u003c/form\u003e \u003c/div\u003e \u003c/div\u003e \u003cdiv id\u003du1\u003e \u003ca href\u003dhttp://news.baidu.com name\u003dtj_trnews class\u003dmnav\u003eæ\\x96°é\\x97»\u003c/a\u003e \u003ca href\u003dhttp://www.hao123.com name\u003dtj_trhao123 class\u003dmnav\u003ehao123\u003c/a\u003e \u003ca href\u003dhttp://map.baidu.com name\u003dtj_trmap class\u003dmnav\u003eå\\x9c°å\\x9b¾\u003c/a\u003e \u003ca href\u003dhttp://v.baidu.com name\u003dtj_trvideo class\u003dmnav\u003eè§\\x86é¢\\x91\u003c/a\u003e \u003ca href\u003dhttp://tieba.baidu.com name\u003dtj_trtieba class\u003dmnav\u003eè´´å\\x90§\u003c/a\u003e \u003cnoscript\u003e \u003ca href\u003dhttp://www.baidu.com/bdorz/login.gif?login\u0026amp;tpl\u003dmn\u0026amp;u\u003dhttp%3A%2F%2Fwww.baidu.com%2f%3fbdorz_come%3d1 name\u003dtj_login class\u003dlb\u003eç\\x99»å½\\x95\u003c/a\u003e \u003c/noscript\u003e \u003cscript\u003edocument.write(\\\u0027\u003ca href\u003d\"http://www.baidu.com/bdorz/login.gif?login\u0026tpl\u003dmn\u0026u\u003d\\\u0027+ encodeURIComponent(window.location.href+ (window.location.search \u003d\u003d\u003d \"\" ? \"?\" : \"\u0026\")+ \"bdorz_come\u003d1\")+ \\\u0027\" name\u003d\"tj_login\" class\u003d\"lb\"\u003eç\\x99»å½\\x95\u003c/a\u003e\\\u0027);\u003c/script\u003e \u003ca href\u003d//www.baidu.com/more/ name\u003dtj_briicon class\u003dbri style\u003d\"display: block;\"\u003eæ\\x9b´å¤\\x9aäº§å\\x93\\x81\u003c/a\u003e \u003c/div\u003e \u003c/div\u003e \u003c/div\u003e \u003cdiv id\u003dftCon\u003e \u003cdiv id\u003dftConw\u003e \u003cp id\u003dlh\u003e \u003ca href\u003dhttp://home.baidu.com\u003eå\\x85³äº\\x8eç\\x99¾åº¦\u003c/a\u003e \u003ca href\u003dhttp://ir.baidu.com\u003eAbout Baidu\u003c/a\u003e \u003c/p\u003e \u003cp id\u003dcp\u003e\u0026copy;2017\u0026nbsp;Baidu\u0026nbsp;\u003ca href\u003dhttp://www.baidu.com/duty/\u003eä½¿ç\\x94¨ç\\x99¾åº¦å\\x89\\x8då¿\\x85è¯»\u003c/a\u003e\u0026nbsp; \u003ca href\u003dhttp://jianyi.baidu.com/ class\u003dcp-feedback\u003eæ\\x84\\x8fè§\\x81å\\x8f\\x8dé¦\\x88\u003c/a\u003e\u0026nbsp;äº¬ICPè¯\\x81030173å\\x8f·\u0026nbsp; \u003cimg src\u003d//www.baidu.com/img/gs.gif\u003e \u003c/p\u003e \u003c/div\u003e \u003c/div\u003e \u003c/div\u003e \u003c/body\u003e \u003c/html\u003e\\r\\n\u0027"
          },
          "metadata": {},
          "output_type": "execute_result",
          "execution_count": 3
        }
      ],
      "source": "r.text"
    },
    {
      "cell_type": "code",
      "execution_count": 5,
      "metadata": {
        "pycharm": {}
      },
      "outputs": [
        {
          "data": {
            "text/plain": [
              "\u0027http://www.baidu.com/\u0027"
            ]
          },
          "execution_count": 5,
          "metadata": {},
          "output_type": "execute_result"
        }
      ],
      "source": [
        "r.url"
      ]
    },
    {
      "cell_type": "code",
      "execution_count": 10,
      "metadata": {
        "pycharm": {
          "is_executing": false
        }
      },
      "outputs": [
        {
          "data": {
            "text/plain": "\u003cRequestsCookieJar[Cookie(version\u003d0, name\u003d\u0027BDORZ\u0027, value\u003d\u002727315\u0027, port\u003dNone, port_specified\u003dFalse, domain\u003d\u0027.baidu.com\u0027, domain_specified\u003dTrue, domain_initial_dot\u003dTrue, path\u003d\u0027/\u0027, path_specified\u003dTrue, secure\u003dFalse, expires\u003d1554101592, discard\u003dFalse, comment\u003dNone, comment_url\u003dNone, rest\u003d{}, rfc2109\u003dFalse)]\u003e"
          },
          "metadata": {},
          "output_type": "execute_result",
          "execution_count": 10
        }
      ],
      "source": "r.cookies"
    },
    {
      "cell_type": "markdown",
      "source": "## cookies",
      "metadata": {
        "pycharm": {
          "metadata": false,
          "name": "#%% md\n"
        }
      }
    },
    {
      "cell_type": "code",
      "execution_count": 9,
      "metadata": {
        "scrolled": true,
        "pycharm": {
          "is_executing": false
        }
      },
      "outputs": [
        {
          "data": {
            "text/plain": "{\u0027Server\u0027: \u0027bfe/1.0.8.18\u0027, \u0027Date\u0027: \u0027Sun, 31 Mar 2019 06:53:12 GMT\u0027, \u0027Content-Type\u0027: \u0027text/html\u0027, \u0027Last-Modified\u0027: \u0027Mon, 23 Jan 2017 13:28:11 GMT\u0027, \u0027Transfer-Encoding\u0027: \u0027chunked\u0027, \u0027Connection\u0027: \u0027Keep-Alive\u0027, \u0027Cache-Control\u0027: \u0027private, no-cache, no-store, proxy-revalidate, no-transform\u0027, \u0027Pragma\u0027: \u0027no-cache\u0027, \u0027Set-Cookie\u0027: \u0027BDORZ\u003d27315; max-age\u003d86400; domain\u003d.baidu.com; path\u003d/\u0027, \u0027Content-Encoding\u0027: \u0027gzip\u0027}"
          },
          "metadata": {},
          "output_type": "execute_result",
          "execution_count": 9
        }
      ],
      "source": "r.headers"
    },
    {
      "cell_type": "markdown",
      "source": "## 响应头",
      "metadata": {
        "pycharm": {
          "metadata": false,
          "name": "#%% md\n"
        }
      }
    },
    {
      "cell_type": "code",
      "execution_count": 11,
      "outputs": [
        {
          "data": {
            "text/plain": "{\u0027User-Agent\u0027: \u0027python-requests/2.21.0\u0027, \u0027Accept-Encoding\u0027: \u0027gzip, deflate\u0027, \u0027Accept\u0027: \u0027*/*\u0027, \u0027Connection\u0027: \u0027keep-alive\u0027}"
          },
          "metadata": {},
          "output_type": "execute_result",
          "execution_count": 11
        }
      ],
      "source": "r.request.headers",
      "metadata": {
        "pycharm": {
          "metadata": false,
          "name": "#%% \n",
          "is_executing": false
        }
      }
    },
    {
      "cell_type": "markdown",
      "source": "## 请求头",
      "metadata": {
        "pycharm": {
          "metadata": false,
          "name": "#%% md\n"
        }
      }
    },
    {
      "cell_type": "code",
      "execution_count": 8,
      "metadata": {
        "scrolled": false,
        "pycharm": {}
      },
      "outputs": [
        {
          "data": {
            "text/plain": [
              "\u0027\u003c!DOCTYPE html\u003e\\r\\n\u003c!--STATUS OK--\u003e\u003chtml\u003e \u003chead\u003e\u003cmeta http-equiv\u003dcontent-type content\u003dtext/html;charset\u003dutf-8\u003e\u003cmeta http-equiv\u003dX-UA-Compatible content\u003dIE\u003dEdge\u003e\u003cmeta content\u003dalways name\u003dreferrer\u003e\u003clink rel\u003dstylesheet type\u003dtext/css href\u003dhttp://s1.bdstatic.com/r/www/cache/bdorz/baidu.min.css\u003e\u003ctitle\u003eç\\x99¾åº¦ä¸\\x80ä¸\\x8bï¼\\x8cä½\\xa0å°±ç\\x9f¥é\\x81\\x93\u003c/title\u003e\u003c/head\u003e \u003cbody link\u003d#0000cc\u003e \u003cdiv id\u003dwrapper\u003e \u003cdiv id\u003dhead\u003e \u003cdiv class\u003dhead_wrapper\u003e \u003cdiv class\u003ds_form\u003e \u003cdiv class\u003ds_form_wrapper\u003e \u003cdiv id\u003dlg\u003e \u003cimg hidefocus\u003dtrue src\u003d//www.baidu.com/img/bd_logo1.png width\u003d270 height\u003d129\u003e \u003c/div\u003e \u003cform id\u003dform name\u003df action\u003d//www.baidu.com/s class\u003dfm\u003e \u003cinput type\u003dhidden name\u003dbdorz_come value\u003d1\u003e \u003cinput type\u003dhidden name\u003die value\u003dutf-8\u003e \u003cinput type\u003dhidden name\u003df value\u003d8\u003e \u003cinput type\u003dhidden name\u003drsv_bp value\u003d1\u003e \u003cinput type\u003dhidden name\u003drsv_idx value\u003d1\u003e \u003cinput type\u003dhidden name\u003dtn value\u003dbaidu\u003e\u003cspan class\u003d\"bg s_ipt_wr\"\u003e\u003cinput id\u003dkw name\u003dwd class\u003ds_ipt value maxlength\u003d255 autocomplete\u003doff autofocus\u003e\u003c/span\u003e\u003cspan class\u003d\"bg s_btn_wr\"\u003e\u003cinput type\u003dsubmit id\u003dsu value\u003dç\\x99¾åº¦ä¸\\x80ä¸\\x8b class\u003d\"bg s_btn\"\u003e\u003c/span\u003e \u003c/form\u003e \u003c/div\u003e \u003c/div\u003e \u003cdiv id\u003du1\u003e \u003ca href\u003dhttp://news.baidu.com name\u003dtj_trnews class\u003dmnav\u003eæ\\x96°é\\x97»\u003c/a\u003e \u003ca href\u003dhttp://www.hao123.com name\u003dtj_trhao123 class\u003dmnav\u003ehao123\u003c/a\u003e \u003ca href\u003dhttp://map.baidu.com name\u003dtj_trmap class\u003dmnav\u003eå\\x9c°å\\x9b¾\u003c/a\u003e \u003ca href\u003dhttp://v.baidu.com name\u003dtj_trvideo class\u003dmnav\u003eè§\\x86é¢\\x91\u003c/a\u003e \u003ca href\u003dhttp://tieba.baidu.com name\u003dtj_trtieba class\u003dmnav\u003eè´´å\\x90§\u003c/a\u003e \u003cnoscript\u003e \u003ca href\u003dhttp://www.baidu.com/bdorz/login.gif?login\u0026amp;tpl\u003dmn\u0026amp;u\u003dhttp%3A%2F%2Fwww.baidu.com%2f%3fbdorz_come%3d1 name\u003dtj_login class\u003dlb\u003eç\\x99»å½\\x95\u003c/a\u003e \u003c/noscript\u003e \u003cscript\u003edocument.write(\\\u0027\u003ca href\u003d\"http://www.baidu.com/bdorz/login.gif?login\u0026tpl\u003dmn\u0026u\u003d\\\u0027+ encodeURIComponent(window.location.href+ (window.location.search \u003d\u003d\u003d \"\" ? \"?\" : \"\u0026\")+ \"bdorz_come\u003d1\")+ \\\u0027\" name\u003d\"tj_login\" class\u003d\"lb\"\u003eç\\x99»å½\\x95\u003c/a\u003e\\\u0027);\u003c/script\u003e \u003ca href\u003d//www.baidu.com/more/ name\u003dtj_briicon class\u003dbri style\u003d\"display: block;\"\u003eæ\\x9b´å¤\\x9aäº§å\\x93\\x81\u003c/a\u003e \u003c/div\u003e \u003c/div\u003e \u003c/div\u003e \u003cdiv id\u003dftCon\u003e \u003cdiv id\u003dftConw\u003e \u003cp id\u003dlh\u003e \u003ca href\u003dhttp://home.baidu.com\u003eå\\x85³äº\\x8eç\\x99¾åº¦\u003c/a\u003e \u003ca href\u003dhttp://ir.baidu.com\u003eAbout Baidu\u003c/a\u003e \u003c/p\u003e \u003cp id\u003dcp\u003e\u0026copy;2017\u0026nbsp;Baidu\u0026nbsp;\u003ca href\u003dhttp://www.baidu.com/duty/\u003eä½¿ç\\x94¨ç\\x99¾åº¦å\\x89\\x8då¿\\x85è¯»\u003c/a\u003e\u0026nbsp; \u003ca href\u003dhttp://jianyi.baidu.com/ class\u003dcp-feedback\u003eæ\\x84\\x8fè§\\x81å\\x8f\\x8dé¦\\x88\u003c/a\u003e\u0026nbsp;äº¬ICPè¯\\x81030173å\\x8f·\u0026nbsp; \u003cimg src\u003d//www.baidu.com/img/gs.gif\u003e \u003c/p\u003e \u003c/div\u003e \u003c/div\u003e \u003c/div\u003e \u003c/body\u003e \u003c/html\u003e\\r\\n\u0027"
            ]
          },
          "execution_count": 8,
          "metadata": {},
          "output_type": "execute_result"
        }
      ],
      "source": "r.text"
    },
    {
      "cell_type": "code",
      "execution_count": 9,
      "metadata": {
        "scrolled": true,
        "pycharm": {}
      },
      "outputs": [
        {
          "data": {
            "text/plain": [
              "\u003cbound method Response.json of \u003cResponse [200]\u003e\u003e"
            ]
          },
          "execution_count": 9,
          "metadata": {},
          "output_type": "execute_result"
        }
      ],
      "source": [
        "r.json"
      ]
    },
    {
      "cell_type": "code",
      "execution_count": 5,
      "metadata": {
        "pycharm": {
          "is_executing": false
        }
      },
      "outputs": [
        {
          "data": {
            "text/plain": "\u0027utf-8\u0027"
          },
          "metadata": {},
          "output_type": "execute_result",
          "execution_count": 5
        }
      ],
      "source": [
        "r.apparent_encoding"
      ]
    },
    {
      "cell_type": "code",
      "execution_count": 6,
      "metadata": {
        "pycharm": {
          "is_executing": false
        }
      },
      "outputs": [],
      "source": "r.encoding \u003d \u0027utf-8\u0027"
    },
    {
      "cell_type": "code",
      "execution_count": 12,
      "metadata": {
        "pycharm": {}
      },
      "outputs": [
        {
          "data": {
            "text/plain": [
              "\u003cbound method Response.close of \u003cResponse [200]\u003e\u003e"
            ]
          },
          "execution_count": 12,
          "metadata": {},
          "output_type": "execute_result"
        }
      ],
      "source": [
        "r.close"
      ]
    },
    {
      "cell_type": "code",
      "execution_count": 13,
      "metadata": {
        "pycharm": {}
      },
      "outputs": [
        {
          "data": {
            "text/plain": [
              "200"
            ]
          },
          "execution_count": 13,
          "metadata": {},
          "output_type": "execute_result"
        }
      ],
      "source": "r.status_code"
    },
    {
      "cell_type": "code",
      "execution_count": 12,
      "outputs": [
        {
          "data": {
            "text/plain": "\u0027\u003c!DOCTYPE html\u003e\\r\\n\u003c!--STATUS OK--\u003e\u003chtml\u003e \u003chead\u003e\u003cmeta http-equiv\u003dcontent-type content\u003dtext/html;charset\u003dutf-8\u003e\u003cmeta http-equiv\u003dX-UA-Compatible content\u003dIE\u003dEdge\u003e\u003cmeta content\u003dalways name\u003dreferrer\u003e\u003clink rel\u003dstylesheet type\u003dtext/css href\u003dhttp://s1.bdstatic.com/r/www/cache/bdorz/baidu.min.css\u003e\u003ctitle\u003e百度一下，你就知道\u003c/title\u003e\u003c/head\u003e \u003cbody link\u003d#0000cc\u003e \u003cdiv id\u003dwrapper\u003e \u003cdiv id\u003dhead\u003e \u003cdiv class\u003dhead_wrapper\u003e \u003cdiv class\u003ds_form\u003e \u003cdiv class\u003ds_form_wrapper\u003e \u003cdiv id\u003dlg\u003e \u003cimg hidefocus\u003dtrue src\u003d//www.baidu.com/img/bd_logo1.png width\u003d270 height\u003d129\u003e \u003c/div\u003e \u003cform id\u003dform name\u003df action\u003d//www.baidu.com/s class\u003dfm\u003e \u003cinput type\u003dhidden name\u003dbdorz_come value\u003d1\u003e \u003cinput type\u003dhidden name\u003die value\u003dutf-8\u003e \u003cinput type\u003dhidden name\u003df value\u003d8\u003e \u003cinput type\u003dhidden name\u003drsv_bp value\u003d1\u003e \u003cinput type\u003dhidden name\u003drsv_idx value\u003d1\u003e \u003cinput type\u003dhidden name\u003dtn value\u003dbaidu\u003e\u003cspan class\u003d\"bg s_ipt_wr\"\u003e\u003cinput id\u003dkw name\u003dwd class\u003ds_ipt value maxlength\u003d255 autocomplete\u003doff autofocus\u003e\u003c/span\u003e\u003cspan class\u003d\"bg s_btn_wr\"\u003e\u003cinput type\u003dsubmit id\u003dsu value\u003d百度一下 class\u003d\"bg s_btn\"\u003e\u003c/span\u003e \u003c/form\u003e \u003c/div\u003e \u003c/div\u003e \u003cdiv id\u003du1\u003e \u003ca href\u003dhttp://news.baidu.com name\u003dtj_trnews class\u003dmnav\u003e新闻\u003c/a\u003e \u003ca href\u003dhttp://www.hao123.com name\u003dtj_trhao123 class\u003dmnav\u003ehao123\u003c/a\u003e \u003ca href\u003dhttp://map.baidu.com name\u003dtj_trmap class\u003dmnav\u003e地图\u003c/a\u003e \u003ca href\u003dhttp://v.baidu.com name\u003dtj_trvideo class\u003dmnav\u003e视频\u003c/a\u003e \u003ca href\u003dhttp://tieba.baidu.com name\u003dtj_trtieba class\u003dmnav\u003e贴吧\u003c/a\u003e \u003cnoscript\u003e \u003ca href\u003dhttp://www.baidu.com/bdorz/login.gif?login\u0026amp;tpl\u003dmn\u0026amp;u\u003dhttp%3A%2F%2Fwww.baidu.com%2f%3fbdorz_come%3d1 name\u003dtj_login class\u003dlb\u003e登录\u003c/a\u003e \u003c/noscript\u003e \u003cscript\u003edocument.write(\\\u0027\u003ca href\u003d\"http://www.baidu.com/bdorz/login.gif?login\u0026tpl\u003dmn\u0026u\u003d\\\u0027+ encodeURIComponent(window.location.href+ (window.location.search \u003d\u003d\u003d \"\" ? \"?\" : \"\u0026\")+ \"bdorz_come\u003d1\")+ \\\u0027\" name\u003d\"tj_login\" class\u003d\"lb\"\u003e登录\u003c/a\u003e\\\u0027);\u003c/script\u003e \u003ca href\u003d//www.baidu.com/more/ name\u003dtj_briicon class\u003dbri style\u003d\"display: block;\"\u003e更多产品\u003c/a\u003e \u003c/div\u003e \u003c/div\u003e \u003c/div\u003e \u003cdiv id\u003dftCon\u003e \u003cdiv id\u003dftConw\u003e \u003cp id\u003dlh\u003e \u003ca href\u003dhttp://home.baidu.com\u003e关于百度\u003c/a\u003e \u003ca href\u003dhttp://ir.baidu.com\u003eAbout Baidu\u003c/a\u003e \u003c/p\u003e \u003cp id\u003dcp\u003e\u0026copy;2017\u0026nbsp;Baidu\u0026nbsp;\u003ca href\u003dhttp://www.baidu.com/duty/\u003e使用百度前必读\u003c/a\u003e\u0026nbsp; \u003ca href\u003dhttp://jianyi.baidu.com/ class\u003dcp-feedback\u003e意见反馈\u003c/a\u003e\u0026nbsp;京ICP证030173号\u0026nbsp; \u003cimg src\u003d//www.baidu.com/img/gs.gif\u003e \u003c/p\u003e \u003c/div\u003e \u003c/div\u003e \u003c/div\u003e \u003c/body\u003e \u003c/html\u003e\\r\\n\u0027"
          },
          "metadata": {},
          "output_type": "execute_result",
          "execution_count": 12
        }
      ],
      "source": "r.content.decode()",
      "metadata": {
        "pycharm": {
          "metadata": false,
          "name": "#%% \n",
          "is_executing": false
        }
      }
    },
    {
      "cell_type": "code",
      "execution_count": 16,
      "outputs": [
        {
          "name": "stdout",
          "text": [
            "\u003cResponse [200]\u003e\n"
          ],
          "output_type": "stream"
        }
      ],
      "source": "kw \u003d {\u0027wd\u0027: \u0027长城\u0027}\nr \u003d requests.get(\u0027https://www.baidu.com/s\u0027, params\u003dkw)\nprint(r)",
      "metadata": {
        "pycharm": {
          "metadata": false,
          "name": "#%%\n",
          "is_executing": false
        }
      }
    },
    {
      "cell_type": "code",
      "execution_count": 17,
      "outputs": [
        {
          "data": {
            "text/plain": "\u0027https://www.baidu.com/s?wd\u003d%E9%95%BF%E5%9F%8E\u0027"
          },
          "metadata": {},
          "output_type": "execute_result",
          "execution_count": 17
        }
      ],
      "source": "r.url",
      "metadata": {
        "pycharm": {
          "metadata": false,
          "name": "#%%\n",
          "is_executing": false
        }
      }
    },
    {
      "cell_type": "markdown",
      "source": "## wd\u003d%E9%95%BF%E5%9F%8E 字符编码",
      "metadata": {
        "pycharm": {
          "metadata": false,
          "name": "#%% md\n"
        }
      }
    },
    {
      "cell_type": "code",
      "execution_count": 19,
      "outputs": [
        {
          "data": {
            "text/plain": "\u0027zhi5fuc3\u0027"
          },
          "metadata": {},
          "output_type": "execute_result",
          "execution_count": 19
        }
      ],
      "source": "\"zhi{}fuc{}\".format(5,3)",
      "metadata": {
        "pycharm": {
          "metadata": false,
          "name": "#%% \n",
          "is_executing": false
        }
      }
    },
    {
      "cell_type": "markdown",
      "source": "## 字符格式化",
      "metadata": {
        "pycharm": {
          "metadata": false,
          "name": "#%% md\n"
        }
      }
    },
    {
      "cell_type": "code",
      "execution_count": null,
      "outputs": [],
      "source": "\n",
      "metadata": {
        "pycharm": {
          "metadata": false,
          "name": "#%% \n"
        }
      }
    }
  ],
  "metadata": {
    "kernelspec": {
      "name": "pycharm-d20dfcbc",
      "language": "python",
      "display_name": "PyCharm (爬虫库)"
    },
    "language_info": {
      "codemirror_mode": {
        "name": "ipython",
        "version": 3
      },
      "file_extension": ".py",
      "mimetype": "text/x-python",
      "name": "python",
      "nbconvert_exporter": "python",
      "pygments_lexer": "ipython3",
      "version": "3.6.7"
    }
  },
  "nbformat": 4,
  "nbformat_minor": 1
}